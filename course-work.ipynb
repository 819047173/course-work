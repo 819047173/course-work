{
 "cells": [
  {
   "cell_type": "code",
   "execution_count": 1,
   "id": "2d917658-94fa-435a-b5f7-ac62bf1c38ee",
   "metadata": {},
   "outputs": [],
   "source": [
    "from uk_covid19 import Cov19API\n",
    "import json\n",
    "import pandas as pd\n",
    "import matplotlib.pyplot as plt\n",
    "import numpy as np\n",
    "from IPython.display import clear_output\n",
    "import ipywidgets as wdg"
   ]
  },
  {
   "cell_type": "code",
   "execution_count": 2,
   "id": "3c89b68a-b8bd-4aaa-a5eb-1efd235dc4f0",
   "metadata": {},
   "outputs": [],
   "source": [
    "%matplotlib inline\n",
    "# make figures larger\n",
    "plt.rcParams['figure.dpi'] = 100"
   ]
  },
  {
   "cell_type": "code",
   "execution_count": 3,
   "id": "1409b737-48e8-4b91-9958-35c850b4efb1",
   "metadata": {},
   "outputs": [],
   "source": [
    "def access_api():\n",
    "    filters = [\n",
    "        'areaType=overview'\n",
    "    ]\n",
    "\n",
    "    structure = {\n",
    "        \"date\": \"date\",\n",
    "        \"first\": \"cumPeopleVaccinatedFirstDoseByPublishDate\",\n",
    "        \"second\": \"cumPeopleVaccinatedSecondDoseByPublishDate\"\n",
    "    }\n",
    "    api = Cov19API(filters=filters, structure=structure)\n",
    "    people=api.get_json()\n",
    "    with open(\"people.json\", \"wt\") as file:\n",
    "        json.dump(people, file)\n",
    "\n"
   ]
  },
  {
   "cell_type": "code",
   "execution_count": 4,
   "id": "262d4330-6ef4-4487-bc1a-750eb9ccff19",
   "metadata": {},
   "outputs": [],
   "source": [
    "def parse_date(datestring):\n",
    "    return pd.to_datetime(datestring, format=\"%Y-%m-%d\")\n",
    "def wrangle_data():\n",
    "    global peopledf\n",
    "    with open(\"people.json\", \"rt\") as file:\n",
    "        data=json.load(file)\n",
    "    datalist = data['data']\n",
    "    dates=[entry['date'] for entry in datalist ]\n",
    "    dates.sort()\n",
    "\n",
    "    startdate=parse_date(dates[0])\n",
    "    enddate=parse_date(dates[-1])\n",
    "    index=pd.date_range(startdate, enddate, freq='D')\n",
    "    peopledf=pd.DataFrame(index=index, columns=['first', 'second','total'])\n",
    "    \n",
    "    for entry in datalist: \n",
    "        date=parse_date(entry['date'])\n",
    "        for column in ['first', 'second']:\n",
    "            if pd.isna(peopledf.loc[date, column]): \n",
    "                value= entry[column] if entry[column]!=None else 0.0\n",
    "                peopledf.loc[date, column]=value\n",
    "        for column in ['total']:\n",
    "            value = entry['first'] + entry['second']\n",
    "            peopledf.loc[date, column]=value\n",
    "            \n",
    "    peopledf.fillna(0.0, inplace=True)\n",
    "    return peopledf\n",
    "\n"
   ]
  },
  {
   "cell_type": "markdown",
   "id": "5bbe3c3d-af40-4a6e-9606-bcff900eada1",
   "metadata": {},
   "source": [
    "The following form demonstrates the number of people who received the first dose and the second dose by publish date. \n",
    "\n",
    "The time range is between 2021-01-10 to 2022-09-11, because PHE only provides those data."
   ]
  },
  {
   "cell_type": "code",
   "execution_count": 35,
   "id": "a7e7ce70-3891-4bf7-81b1-017920a1839e",
   "metadata": {},
   "outputs": [
    {
     "data": {
      "text/html": [
       "<div>\n",
       "<style scoped>\n",
       "    .dataframe tbody tr th:only-of-type {\n",
       "        vertical-align: middle;\n",
       "    }\n",
       "\n",
       "    .dataframe tbody tr th {\n",
       "        vertical-align: top;\n",
       "    }\n",
       "\n",
       "    .dataframe thead th {\n",
       "        text-align: right;\n",
       "    }\n",
       "</style>\n",
       "<table border=\"1\" class=\"dataframe\">\n",
       "  <thead>\n",
       "    <tr style=\"text-align: right;\">\n",
       "      <th></th>\n",
       "      <th>first</th>\n",
       "      <th>second</th>\n",
       "      <th>total</th>\n",
       "    </tr>\n",
       "  </thead>\n",
       "  <tbody>\n",
       "    <tr>\n",
       "      <th>2021-01-10</th>\n",
       "      <td>2286572</td>\n",
       "      <td>391399</td>\n",
       "      <td>2677971</td>\n",
       "    </tr>\n",
       "    <tr>\n",
       "      <th>2021-01-11</th>\n",
       "      <td>2431648</td>\n",
       "      <td>412167</td>\n",
       "      <td>2843815</td>\n",
       "    </tr>\n",
       "    <tr>\n",
       "      <th>2021-01-12</th>\n",
       "      <td>2639309</td>\n",
       "      <td>428232</td>\n",
       "      <td>3067541</td>\n",
       "    </tr>\n",
       "    <tr>\n",
       "      <th>2021-01-13</th>\n",
       "      <td>2918252</td>\n",
       "      <td>437977</td>\n",
       "      <td>3356229</td>\n",
       "    </tr>\n",
       "    <tr>\n",
       "      <th>2021-01-14</th>\n",
       "      <td>3234946</td>\n",
       "      <td>443234</td>\n",
       "      <td>3678180</td>\n",
       "    </tr>\n",
       "    <tr>\n",
       "      <th>...</th>\n",
       "      <td>...</td>\n",
       "      <td>...</td>\n",
       "      <td>...</td>\n",
       "    </tr>\n",
       "    <tr>\n",
       "      <th>2022-09-07</th>\n",
       "      <td>53808854</td>\n",
       "      <td>50750722</td>\n",
       "      <td>104559576</td>\n",
       "    </tr>\n",
       "    <tr>\n",
       "      <th>2022-09-08</th>\n",
       "      <td>53809727</td>\n",
       "      <td>50752513</td>\n",
       "      <td>104562240</td>\n",
       "    </tr>\n",
       "    <tr>\n",
       "      <th>2022-09-09</th>\n",
       "      <td>53810757</td>\n",
       "      <td>50754555</td>\n",
       "      <td>104565312</td>\n",
       "    </tr>\n",
       "    <tr>\n",
       "      <th>2022-09-10</th>\n",
       "      <td>53812756</td>\n",
       "      <td>50760564</td>\n",
       "      <td>104573320</td>\n",
       "    </tr>\n",
       "    <tr>\n",
       "      <th>2022-09-11</th>\n",
       "      <td>53813491</td>\n",
       "      <td>50762968</td>\n",
       "      <td>104576459</td>\n",
       "    </tr>\n",
       "  </tbody>\n",
       "</table>\n",
       "<p>610 rows × 3 columns</p>\n",
       "</div>"
      ],
      "text/plain": [
       "               first    second      total\n",
       "2021-01-10   2286572    391399    2677971\n",
       "2021-01-11   2431648    412167    2843815\n",
       "2021-01-12   2639309    428232    3067541\n",
       "2021-01-13   2918252    437977    3356229\n",
       "2021-01-14   3234946    443234    3678180\n",
       "...              ...       ...        ...\n",
       "2022-09-07  53808854  50750722  104559576\n",
       "2022-09-08  53809727  50752513  104562240\n",
       "2022-09-09  53810757  50754555  104565312\n",
       "2022-09-10  53812756  50760564  104573320\n",
       "2022-09-11  53813491  50762968  104576459\n",
       "\n",
       "[610 rows x 3 columns]"
      ]
     },
     "execution_count": 35,
     "metadata": {},
     "output_type": "execute_result"
    }
   ],
   "source": [
    "wrangle_data()"
   ]
  },
  {
   "cell_type": "markdown",
   "id": "52de45a7-3006-46d7-b2fe-19b852937a92",
   "metadata": {},
   "source": [
    "There is a chart to represent those data."
   ]
  },
  {
   "cell_type": "code",
   "execution_count": 14,
   "id": "c7713cef-d3ed-4231-ba09-c40cfff91fcd",
   "metadata": {},
   "outputs": [
    {
     "data": {
      "application/vnd.jupyter.widget-view+json": {
       "model_id": "9cfe327565174fdda8ebc3a2650ec236",
       "version_major": 2,
       "version_minor": 0
      },
      "text/plain": [
       "HBox(children=(SelectMultiple(description='Times', index=(0, 1), options=('first', 'second', 'total'), rows=3,…"
      ]
     },
     "metadata": {},
     "output_type": "display_data"
    },
    {
     "data": {
      "application/vnd.jupyter.widget-view+json": {
       "model_id": "a0f2f34b580e4b2a9fea9750216d5804",
       "version_major": 2,
       "version_minor": 0
      },
      "text/plain": [
       "Output()"
      ]
     },
     "metadata": {},
     "output_type": "display_data"
    }
   ],
   "source": [
    "columns=wdg.SelectMultiple(\n",
    "    options=['first', 'second', 'total'], \n",
    "    value=['first', 'second'], \n",
    "    rows=3, \n",
    "    description='Times',\n",
    "    disabled=False\n",
    ")\n",
    "\n",
    "scale=wdg.RadioButtons(\n",
    "    options=['linear', 'log'],\n",
    "    description='Scale:',\n",
    "    disabled=False\n",
    ")\n",
    "\n",
    "controls=wdg.HBox([columns, scale])\n",
    "\n",
    "\n",
    "def times_graph(gcolumns,gscale):\n",
    "    if gscale=='linear':\n",
    "        logscale=False\n",
    "    else:\n",
    "        logscale=True\n",
    "    ncols=len(gcolumns)\n",
    "    if ncols>0:\n",
    "        peopledf[list(gcolumns)].plot(logy=logscale) \n",
    "        plt.show() \n",
    "    else:\n",
    "        print(\"Click to select data for graph\")\n",
    "        print(\"(CTRL-Click to select more than one category)\")\n",
    "    \n",
    "output=wdg.interactive_output(times_graph, {'gcolumns': columns,'gscale': scale})\n",
    "\n",
    "display(controls, output)"
   ]
  },
  {
   "cell_type": "markdown",
   "id": "053a8d44-d54c-4488-8973-1c6a49df245c",
   "metadata": {},
   "source": [
    "You can click the following button to get the new data from API."
   ]
  },
  {
   "cell_type": "code",
   "execution_count": 31,
   "id": "449fdf9b-1f5c-4818-8fbe-0fa59366e5de",
   "metadata": {},
   "outputs": [],
   "source": [
    "def refresh_graph():\n",
    "    current=columns.value\n",
    "    if current==tuple([columns.options[0]]):\n",
    "        other=tuple([columns.options[1]])\n",
    "    else:\n",
    "        other=tuple([columns.options[0]])\n",
    "    columns.value=other \n",
    "    columns.value=current "
   ]
  },
  {
   "cell_type": "code",
   "execution_count": 36,
   "id": "c4f1db81-71b2-4be5-90b7-7693f8c46caa",
   "metadata": {},
   "outputs": [
    {
     "data": {
      "application/vnd.jupyter.widget-view+json": {
       "model_id": "f300abb2688e4a11ab49b69680b1ed28",
       "version_major": 2,
       "version_minor": 0
      },
      "text/plain": [
       "Button(button_style='info', description='refresh', icon='refresh', style=ButtonStyle(), tooltip='Keep calm and…"
      ]
     },
     "metadata": {},
     "output_type": "display_data"
    }
   ],
   "source": [
    "def api_button_callback(button):\n",
    "\n",
    "    apidata=access_api()\n",
    "    global peopledf\n",
    "    peopledf=wrangle_data()\n",
    "\n",
    "    refresh_graph()\n",
    "\n",
    "    apibutton.icon=\"check\"\n",
    "\n",
    "    \n",
    "apibutton=wdg.Button(\n",
    "    description='refresh',\n",
    "    disabled=False,\n",
    "    button_style='info',\n",
    "    tooltip=\"Keep calm and carry on\",\n",
    "    icon='refresh'\n",
    ")\n",
    "\n",
    "apibutton.on_click(api_button_callback) \n",
    "\n",
    "display(apibutton)"
   ]
  },
  {
   "cell_type": "code",
   "execution_count": null,
   "id": "b8b34032-1eed-49c0-a42a-633d8933b3c7",
   "metadata": {},
   "outputs": [],
   "source": []
  }
 ],
 "metadata": {
  "kernelspec": {
   "display_name": "Python 3 (ipykernel)",
   "language": "python",
   "name": "python3"
  },
  "language_info": {
   "codemirror_mode": {
    "name": "ipython",
    "version": 3
   },
   "file_extension": ".py",
   "mimetype": "text/x-python",
   "name": "python",
   "nbconvert_exporter": "python",
   "pygments_lexer": "ipython3",
   "version": "3.10.13"
  }
 },
 "nbformat": 4,
 "nbformat_minor": 5
}
